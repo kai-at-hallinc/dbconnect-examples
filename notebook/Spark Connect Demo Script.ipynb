{
 "cells": [
  {
   "cell_type": "markdown",
   "metadata": {},
   "source": [
    "## Psark session"
   ]
  },
  {
   "cell_type": "code",
   "execution_count": null,
   "metadata": {},
   "outputs": [],
   "source": [
    "# helper functions for spark\n",
    "\n",
    "from pyspark.sql import SparkSession, DataFrame\n",
    "\n",
    "def get_spark() -> SparkSession:\n",
    "  '''Setup function for spark application. Function creates DatabricksSession or SparkSession class object \n",
    "  depending on presense of SPARK-REMOTE variable.\n",
    "    Returns:\n",
    "        SparkSession: SparkSession or DatabricksSession object\n",
    "  '''\n",
    "  try:\n",
    "    from databricks.connect import DatabricksSession\n",
    "    return DatabricksSession.builder.getOrCreate()\n",
    "  except ImportError:\n",
    "    return SparkSession.builder.getOrCreate()\n",
    "\n",
    "def get_taxis(spark: SparkSession) -> DataFrame:\n",
    "  return spark.read.table(\"samples.nyctaxi.trips\")\n",
    "\n",
    "get_taxis(get_spark()).show(5) "
   ]
  },
  {
   "cell_type": "markdown",
   "metadata": {
    "application/vnd.databricks.v1+cell": {
     "cellMetadata": {},
     "inputWidgets": {},
     "nuid": "954a7c14-6ba8-497e-9fb2-df669e6af595",
     "showTitle": false,
     "title": ""
    }
   },
   "source": [
    "## Prepare the data\n",
    "\n",
    "* Load the data into a dataframe from the source with the given schema"
   ]
  },
  {
   "cell_type": "code",
   "execution_count": null,
   "metadata": {
    "application/vnd.databricks.v1+cell": {
     "cellMetadata": {
      "byteLimit": 2048000,
      "rowLimit": 10000
     },
     "inputWidgets": {},
     "nuid": "d7dc6b6b-92d6-4b63-9745-c4897693d7c3",
     "showTitle": false,
     "title": ""
    }
   },
   "outputs": [
    {
     "data": {
      "text/plain": [
       "DataFrame[vendor: string, pickup_datetime: timestamp, dropoff_datetime: timestamp, passenger_count: int, trip_distance: double, pickup_longitude: double, pickup_latitude: double, rate_code: string, store_and_forward: string, dropoff_longitude: double, dropoff_latitude: double, payment_type: string, fare_amount: double, surcharge: double, mta_tax: double, tip_amount: double, tolls_amount: double, total_amount: double]"
      ]
     },
     "execution_count": 34,
     "metadata": {},
     "output_type": "execute_result"
    }
   ],
   "source": [
    "from pyspark.sql.functions import col, lit, expr, when\n",
    "from pyspark.sql.types import *\n",
    "from datetime import datetime\n",
    "import time\n",
    " \n",
    "# Define schema\n",
    "nyc_schema = StructType([\n",
    "  StructField('vendor', StringType(), True),\n",
    "  StructField('pickup_datetime', TimestampType(), True),\n",
    "  StructField('dropoff_datetime', TimestampType(), True),\n",
    "  StructField('passenger_count', IntegerType(), True),\n",
    "  StructField('trip_distance', DoubleType(), True),\n",
    "  StructField('pickup_longitude', DoubleType(), True),\n",
    "  StructField('pickup_latitude', DoubleType(), True),\n",
    "  StructField('rate_code', StringType(), True),\n",
    "  StructField('store_and_forward', StringType(), True),\n",
    "  StructField('dropoff_longitude', DoubleType(), True),\n",
    "  StructField('dropoff_latitude', DoubleType(), True),\n",
    "  StructField('payment_type', StringType(), True),\n",
    "  StructField('fare_amount', DoubleType(), True),\n",
    "  StructField('surcharge', DoubleType(), True),\n",
    "  StructField('mta_tax', DoubleType(), True),\n",
    "  StructField('tip_amount', DoubleType(), True),\n",
    "  StructField('tolls_amount', DoubleType(), True),\n",
    "  StructField('total_amount', DoubleType(), True)\n",
    "])\n",
    " \n",
    "# Just one file, extend to make all the data available at some point.\n",
    "yellow = spark.read.format('csv').options(header=True).schema(nyc_schema).load(\"dbfs:/databricks-datasets/nyctaxi/tripdata/yellow/yellow_tripdata_2019-12.csv.gz\")\n",
    "green = spark.read.format('csv').options(header=True).schema(nyc_schema).load(\"dbfs:/databricks-datasets/nyctaxi/tripdata/green/green_tripdata_2019-12.csv.gz\")\n",
    "df = yellow.unionAll(green)\n",
    "df"
   ]
  },
  {
   "cell_type": "markdown",
   "metadata": {
    "application/vnd.databricks.v1+cell": {
     "cellMetadata": {
      "byteLimit": 2048000,
      "rowLimit": 10000
     },
     "inputWidgets": {},
     "nuid": "a705800e-bf5a-4810-96b2-0dee04d65e3e",
     "showTitle": false,
     "title": ""
    }
   },
   "source": [
    "## Transform the data\n",
    "\n",
    "This step is reducing the number of columns and renames them a bit to be more human friendly. Once the reduction of columns and fields has happened, add a couple of new columns with additional transformation of the data\n",
    "\n",
    "* passenger type -> only capture single vs multi\n",
    "* tolls flag -> true / false depending if the data has tolls\n",
    "* amount -> round the value down"
   ]
  },
  {
   "cell_type": "code",
   "execution_count": null,
   "metadata": {
    "application/vnd.databricks.v1+cell": {
     "cellMetadata": {
      "byteLimit": 2048000,
      "rowLimit": 10000
     },
     "inputWidgets": {},
     "nuid": "c15a1210-1396-48f6-88f1-3fa65cae9943",
     "showTitle": false,
     "title": ""
    }
   },
   "outputs": [],
   "source": [
    "restricted = df.select(df.vendor, df.passenger_count, df.trip_distance, df.fare_amount.alias(\"amount\"), df.total_amount.alias(\"total\"), df.tolls_amount.alias(\"tolls\"))"
   ]
  },
  {
   "cell_type": "code",
   "execution_count": null,
   "metadata": {
    "application/vnd.databricks.v1+cell": {
     "cellMetadata": {
      "byteLimit": 2048000,
      "rowLimit": 10000
     },
     "inputWidgets": {},
     "nuid": "c8027c40-2d53-4e8b-ad3f-a7b484f87800",
     "showTitle": false,
     "title": ""
    }
   },
   "outputs": [],
   "source": [
    "import pyspark.sql.functions as F\n",
    "\n",
    "cleaned = restricted.withColumn(\n",
    "  \"passenger_type\", F.when(restricted.passenger_count > 1, \"multi\").otherwise(\"single\")\n",
    "  ).withColumn(\n",
    "    \"has_tolls\", F.when(restricted.tolls > 0, True).otherwise(False)\n",
    "  ).withColumn(\n",
    "    \"amount_rounded\", F.ceil(restricted.amount)\n",
    "  )\n",
    "cleaned = cleaned.select(cleaned.vendor, cleaned.passenger_type, cleaned.has_tolls, cleaned.trip_distance.alias(\"distance\"), cleaned.amount_rounded.alias(\"amount\"))"
   ]
  },
  {
   "cell_type": "markdown",
   "metadata": {
    "application/vnd.databricks.v1+cell": {
     "cellMetadata": {},
     "inputWidgets": {},
     "nuid": "756e50f0-0e60-4e9f-87b3-a133b242a292",
     "showTitle": false,
     "title": ""
    }
   },
   "source": [
    "Now, filter out values that don't make sense in the grand scheme of things\n",
    "\n",
    "* negative distance\n",
    "* netative amount\n",
    "* weird correlation between distance and amount"
   ]
  },
  {
   "cell_type": "code",
   "execution_count": null,
   "metadata": {
    "application/vnd.databricks.v1+cell": {
     "cellMetadata": {
      "byteLimit": 2048000,
      "rowLimit": 10000
     },
     "inputWidgets": {},
     "nuid": "db77f308-9644-4944-9857-99a509a8adcb",
     "showTitle": false,
     "title": ""
    }
   },
   "outputs": [
    {
     "data": {
      "text/plain": [
       "7346944"
      ]
     },
     "execution_count": 52,
     "metadata": {},
     "output_type": "execute_result"
    }
   ],
   "source": [
    "cleaned.count()"
   ]
  },
  {
   "cell_type": "code",
   "execution_count": null,
   "metadata": {
    "application/vnd.databricks.v1+cell": {
     "cellMetadata": {
      "byteLimit": 2048000,
      "rowLimit": 10000
     },
     "inputWidgets": {},
     "nuid": "f5732b22-160a-4857-a699-74144f8f8e02",
     "showTitle": false,
     "title": ""
    }
   },
   "outputs": [
    {
     "data": {
      "text/plain": [
       "6910494"
      ]
     },
     "execution_count": 53,
     "metadata": {},
     "output_type": "execute_result"
    }
   ],
   "source": [
    "\n",
    "filtered = cleaned.filter(cleaned.distance > 0).filter(cleaned.amount > 0)\n",
    "filtered.count()"
   ]
  },
  {
   "cell_type": "code",
   "execution_count": null,
   "metadata": {
    "application/vnd.databricks.v1+cell": {
     "cellMetadata": {
      "byteLimit": 2048000,
      "rowLimit": 10000
     },
     "inputWidgets": {},
     "nuid": "bb9321fc-9e4a-4d78-99b0-dba7ac8ce29e",
     "showTitle": false,
     "title": ""
    }
   },
   "outputs": [
    {
     "data": {
      "text/plain": [
       "6910487"
      ]
     },
     "execution_count": 67,
     "metadata": {},
     "output_type": "execute_result"
    }
   ],
   "source": [
    "filter_without_weird = filtered.filter(\n",
    "  ~((filtered.distance < 5) & (filtered.amount > 100))\n",
    ")\n",
    "\n",
    "filter_without_weird.count()"
   ]
  },
  {
   "cell_type": "code",
   "execution_count": null,
   "metadata": {
    "application/vnd.databricks.v1+cell": {
     "cellMetadata": {
      "byteLimit": 2048000,
      "rowLimit": 10000
     },
     "inputWidgets": {},
     "nuid": "73441bb3-59fc-48bd-99f5-4788a2c0a5c2",
     "showTitle": false,
     "title": ""
    }
   },
   "outputs": [],
   "source": [
    "filter_without_weird.write.saveAsTable(\"main.martingrund.cleaned_trips\")"
   ]
  },
  {
   "cell_type": "markdown",
   "metadata": {
    "application/vnd.databricks.v1+cell": {
     "cellMetadata": {},
     "inputWidgets": {},
     "nuid": "353b993c-0b7b-4c3a-b39a-8e27a9d606ae",
     "showTitle": false,
     "title": ""
    }
   },
   "source": [
    "## Create two views with the data\n",
    "\n",
    "for the different vendors"
   ]
  },
  {
   "cell_type": "code",
   "execution_count": null,
   "metadata": {
    "application/vnd.databricks.v1+cell": {
     "cellMetadata": {
      "byteLimit": 2048000,
      "rowLimit": 10000
     },
     "inputWidgets": {},
     "nuid": "d548090f-b627-482c-95cd-d72cca0b9059",
     "showTitle": false,
     "title": ""
    }
   },
   "outputs": [
    {
     "data": {
      "text/plain": [
       "DataFrame[]"
      ]
     },
     "execution_count": 69,
     "metadata": {},
     "output_type": "execute_result"
    }
   ],
   "source": [
    "spark.sql(\"\"\"\n",
    "          create or replace view main.martingrund.trips_yellow as select * except(vendor) from main.martingrund.cleaned_trips where vendor = 1;\n",
    "          \"\"\")"
   ]
  },
  {
   "cell_type": "code",
   "execution_count": null,
   "metadata": {
    "application/vnd.databricks.v1+cell": {
     "cellMetadata": {
      "byteLimit": 2048000,
      "rowLimit": 10000
     },
     "inputWidgets": {},
     "nuid": "3ed6d42d-be60-496c-941c-3cd91231a8a7",
     "showTitle": false,
     "title": ""
    }
   },
   "outputs": [
    {
     "data": {
      "text/plain": [
       "DataFrame[]"
      ]
     },
     "execution_count": 70,
     "metadata": {},
     "output_type": "execute_result"
    }
   ],
   "source": [
    "spark.sql(\"\"\"\n",
    "          create or replace view main.martingrund.trips_green as select * except(vendor) from main.martingrund.cleaned_trips where vendor = 2;\n",
    "          \"\"\")"
   ]
  },
  {
   "cell_type": "code",
   "execution_count": null,
   "metadata": {
    "application/vnd.databricks.v1+cell": {
     "cellMetadata": {
      "byteLimit": 2048000,
      "rowLimit": 10000
     },
     "inputWidgets": {},
     "nuid": "03c689f8-d525-4e04-b94c-7af03b6fbcd8",
     "showTitle": false,
     "title": ""
    }
   },
   "outputs": [
    {
     "data": {
      "text/plain": [
       "2256012"
      ]
     },
     "execution_count": 71,
     "metadata": {},
     "output_type": "execute_result"
    }
   ],
   "source": [
    "spark.table(\"main.martingrund.trips_yellow\").count()"
   ]
  },
  {
   "cell_type": "code",
   "execution_count": null,
   "metadata": {
    "application/vnd.databricks.v1+cell": {
     "cellMetadata": {
      "byteLimit": 2048000,
      "rowLimit": 10000
     },
     "inputWidgets": {},
     "nuid": "7e679df5-75d4-4def-ac88-f5f14e01849d",
     "showTitle": false,
     "title": ""
    }
   },
   "outputs": [
    {
     "data": {
      "text/plain": [
       "4623027"
      ]
     },
     "execution_count": 72,
     "metadata": {},
     "output_type": "execute_result"
    }
   ],
   "source": [
    "spark.table(\"main.martingrund.trips_green\").count()"
   ]
  },
  {
   "cell_type": "code",
   "execution_count": null,
   "metadata": {
    "application/vnd.databricks.v1+cell": {
     "cellMetadata": {},
     "inputWidgets": {},
     "nuid": "2b7d686b-5c8d-4d1d-8438-07e99b587549",
     "showTitle": false,
     "title": ""
    }
   },
   "outputs": [],
   "source": []
  }
 ],
 "metadata": {
  "application/vnd.databricks.v1+notebook": {
   "dashboards": [],
   "language": "python",
   "notebookMetadata": {
    "pythonIndentUnit": 2
   },
   "notebookName": "Spark Connect Demo Script",
   "widgets": {}
  },
  "kernelspec": {
   "display_name": "base",
   "language": "python",
   "name": "python3"
  },
  "language_info": {
   "name": "python",
   "version": "3.12.4"
  }
 },
 "nbformat": 4,
 "nbformat_minor": 0
}
